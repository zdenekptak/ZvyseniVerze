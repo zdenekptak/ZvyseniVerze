{
 "cells": [
  {
   "cell_type": "code",
   "execution_count": 3,
   "metadata": {},
   "outputs": [],
   "source": [
    "import configparser"
   ]
  },
  {
   "cell_type": "code",
   "execution_count": 9,
   "metadata": {},
   "outputs": [],
   "source": [
    "try:\n",
    "    from configparser import ConfigParser\n",
    "except ImportError:\n",
    "    from ConfigParser import ConfigParser  # ver. < 3.0\n",
    "\n",
    "# instantiate\n",
    "config = ConfigParser()\n",
    "\n",
    "# parse existing file\n",
    "config.read('test.ini')\n",
    "\n",
    "# read values from a section\n",
    "string_val = config.get('section_a', 'string_val')\n",
    "bool_val = config.getboolean('section_a', 'bool_val')\n",
    "int_val = config.getint('section_a', 'int_val')\n",
    "float_val = config.getfloat('section_a', 'pi_val')\n",
    "\n",
    "# update existing value\n",
    "config.set('section_a', 'string_val', 'world')\n",
    "\n",
    "# add a new section and some values\n",
    "config.add_section('section_b')\n",
    "config.set('section_b', 'meal_val', 'xxx')\n",
    "config.set('section_b', 'not_found_val', '404')\n",
    "\n",
    "# save to a file\n",
    "with open('test_update.ini', 'w') as configfile:\n",
    "    config.write(configfile)"
   ]
  },
  {
   "cell_type": "code",
   "execution_count": null,
   "metadata": {},
   "outputs": [],
   "source": []
  }
 ],
 "metadata": {
  "kernelspec": {
   "display_name": "Python 3",
   "language": "python",
   "name": "python3"
  },
  "language_info": {
   "codemirror_mode": {
    "name": "ipython",
    "version": 3
   },
   "file_extension": ".py",
   "mimetype": "text/x-python",
   "name": "python",
   "nbconvert_exporter": "python",
   "pygments_lexer": "ipython3",
   "version": "3.8.6"
  }
 },
 "nbformat": 4,
 "nbformat_minor": 4
}
